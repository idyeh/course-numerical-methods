{
 "cells": [
  {
   "cell_type": "markdown",
   "id": "fc4f6434-ce7d-47e8-b37b-19d06040508a",
   "metadata": {},
   "source": [
    "# 第 4 讲：求积问题"
   ]
  },
  {
   "cell_type": "markdown",
   "id": "d5ab6d36-1e8f-42d8-9091-c7769d30f5b0",
   "metadata": {},
   "source": [
    "## Newton-Cotes"
   ]
  },
  {
   "cell_type": "code",
   "execution_count": 55,
   "id": "75793422-a878-4d09-9395-a394b0caea6a",
   "metadata": {},
   "outputs": [],
   "source": [
    "import numpy as np\n",
    "import sympy as sy"
   ]
  },
  {
   "cell_type": "code",
   "execution_count": 95,
   "id": "9bf7d3ea-bc57-416a-bed5-058b1dae9950",
   "metadata": {},
   "outputs": [],
   "source": [
    "def factorial(num):\n",
    "    res = 1\n",
    "    for x in range(1, num+1):\n",
    "        res *= x\n",
    "    return res"
   ]
  },
  {
   "cell_type": "code",
   "execution_count": 96,
   "id": "d67b6c0f-2324-4cff-8912-10f553f0c899",
   "metadata": {},
   "outputs": [],
   "source": [
    "def mul(n, i, t):\n",
    "    res = 1\n",
    "    for j in range(0, n+1):\n",
    "        if j != i:\n",
    "            res *= (t - j)\n",
    "    return res"
   ]
  },
  {
   "cell_type": "code",
   "execution_count": 97,
   "id": "31495f1d-dc5b-4d3d-881f-041e2148d691",
   "metadata": {},
   "outputs": [],
   "source": [
    "def dt(a, b, i, f):\n",
    "    t = np.linspace(a, b, 1000)\n",
    "    return sum(((b-a) / 1000) * f(b-a, i, t))"
   ]
  },
  {
   "cell_type": "code",
   "execution_count": 98,
   "id": "3f32da09-d7c8-4cbc-9a64-05cf47356abd",
   "metadata": {},
   "outputs": [],
   "source": [
    "def C(n, i):\n",
    "    return ( (-1) ** (n - i) ) / (factorial(i) * factorial(n - i)) * dt(0, n, i, mul)"
   ]
  },
  {
   "cell_type": "code",
   "execution_count": 99,
   "id": "c0803bf7-aca7-4b7c-84e6-0a0f435e75be",
   "metadata": {},
   "outputs": [],
   "source": [
    "def f(x):\n",
    "    return 1/ (1 + x)"
   ]
  },
  {
   "cell_type": "code",
   "execution_count": 103,
   "id": "38747200-e244-4c7a-bc4c-570dd5b2bdee",
   "metadata": {},
   "outputs": [],
   "source": [
    "def NC(f, xs, n):\n",
    "    x = np.linspace(xvalues[0], xs[-1], n+1)\n",
    "    h = x[1] - x[0]\n",
    "    total = 0\n",
    "    for i in range(0, n+1):\n",
    "        total += C(n, i) * f(x[i])\n",
    "    return h * total"
   ]
  },
  {
   "cell_type": "code",
   "execution_count": 104,
   "id": "c68fdf3a-dc39-4ee6-b69b-ca6c336cf834",
   "metadata": {},
   "outputs": [],
   "source": [
    "xvalues = [0, 1]"
   ]
  },
  {
   "cell_type": "code",
   "execution_count": 105,
   "id": "d8772245-6001-4071-9a65-1a735d82608a",
   "metadata": {},
   "outputs": [
    {
     "data": {
      "text/plain": [
       "0.6932314905381517"
      ]
     },
     "execution_count": 105,
     "metadata": {},
     "output_type": "execute_result"
    }
   ],
   "source": [
    "NC(f, xvalues, 4)"
   ]
  },
  {
   "cell_type": "markdown",
   "id": "48197284-e438-4e72-8534-db287788f52c",
   "metadata": {},
   "source": [
    "## 梯形公式\n",
    "\n",
    "令Newton-Cotes的n变为1，我们就得到了梯形公式"
   ]
  },
  {
   "cell_type": "markdown",
   "id": "a2a5ef4b-3096-4200-85d6-97ddc22caeeb",
   "metadata": {},
   "source": [
    "递归写法"
   ]
  },
  {
   "cell_type": "code",
   "execution_count": 230,
   "id": "30ae3bc4-f008-4b57-aa38-65252336ff48",
   "metadata": {},
   "outputs": [],
   "source": [
    "def trapezoidal(f, a, b, n):\n",
    "    if n == 1:\n",
    "        return (b-a) * (f(a) + f(b)) / 2\n",
    "    else:\n",
    "        if n % 2 == 0:\n",
    "            h = (b-a) / n\n",
    "            x = [a + i*h for i in range(n+1)]\n",
    "        else:\n",
    "            h = (b-a) / (n+1)\n",
    "            x = [a + i*h for i in range(n+1)]\n",
    "        s1 = trapezoidal(f, a, x[n//2], n//2)\n",
    "        s2 = trapezoidal(f, x[n//2], b, n//2)\n",
    "        return s1 + s2"
   ]
  },
  {
   "cell_type": "code",
   "execution_count": 231,
   "id": "c1980ee7-38c7-47d1-9682-df382857a3e7",
   "metadata": {},
   "outputs": [
    {
     "data": {
      "text/plain": [
       "0.6970238095238095"
      ]
     },
     "execution_count": 231,
     "metadata": {},
     "output_type": "execute_result"
    }
   ],
   "source": [
    "trapezoidal_rule(f, 0, 1, 4)"
   ]
  },
  {
   "cell_type": "markdown",
   "id": "81446bf5-9e21-4019-a91c-de7cd082ef4a",
   "metadata": {},
   "source": [
    "## Romberg"
   ]
  },
  {
   "cell_type": "code",
   "execution_count": 359,
   "id": "d06bac17-814c-43cc-82a0-40bdafc5ca89",
   "metadata": {},
   "outputs": [],
   "source": [
    "def Romberg(f, a, b, n):\n",
    "    R = [[0 for i in range(n + 1)] for j in range(n+1)]\n",
    "    R[1][1] = 1/2 * (b - a) * ( f(a) + f(b) )\n",
    "    # print(R[1][1])\n",
    "    for i in range(2, n + 1):\n",
    "        h = (b - a) / (2 ** (i - 1))\n",
    "        R[i][1] = 1/2 * R[i-1][1] +  h * sum(( f(a + (2 * j - 1) * h ) for j in range(1, 2 ** (i - 2) + 1) ))\n",
    "        print(f\"{i} {1}\")\n",
    "        print(R[i][1])\n",
    "        for k in range(2, i + 1):\n",
    "            R[i][k] = (4 ** (k - 1) * R[i][k-1] - R[i-1][k-1]) / (4 ** (k - 1) - 1)\n",
    "            print(f\"{i} {k}\")            \n",
    "            print(R[i][k])"
   ]
  },
  {
   "cell_type": "code",
   "execution_count": 360,
   "id": "2da78b82-6a69-4428-90fe-dabe68d1c88a",
   "metadata": {},
   "outputs": [
    {
     "name": "stdout",
     "output_type": "stream",
     "text": [
      "2 1\n",
      "1.5712497347424226\n",
      "2 2\n",
      "2.094166157963602\n",
      "3 1\n",
      "1.8962240978279428\n",
      "3 2\n",
      "2.0045488855231164\n",
      "3 3\n",
      "1.9985744006937507\n",
      "4 1\n",
      "1.974256537721767\n",
      "4 2\n",
      "2.0002673510197084\n",
      "4 3\n",
      "1.9999819153861478\n",
      "4 4\n",
      "2.0000042568892016\n",
      "5 1\n",
      "1.993575601232516\n",
      "5 2\n",
      "2.0000152890694323\n",
      "5 3\n",
      "1.999998484939414\n",
      "5 4\n",
      "1.999998747948196\n",
      "5 5\n",
      "1.9999987263445058\n",
      "6 1\n",
      "1.998393722559025\n",
      "6 2\n",
      "1.9999997630011945\n",
      "6 3\n",
      "1.9999987279299787\n",
      "6 4\n",
      "1.9999987317869719\n",
      "6 5\n",
      "1.9999987317235945\n",
      "6 6\n",
      "1.9999987317288528\n"
     ]
    }
   ],
   "source": [
    "Romberg(f, 0, 3.14, 6)"
   ]
  },
  {
   "cell_type": "markdown",
   "id": "63f45641-054e-45bf-bc30-1ab0f9542dee",
   "metadata": {},
   "source": [
    "## Gauss-Legendre"
   ]
  },
  {
   "cell_type": "code",
   "execution_count": 60,
   "id": "a88c209f-72f5-41ad-a393-ab9f1a008c70",
   "metadata": {},
   "outputs": [],
   "source": [
    "def Legendre(N, x):\n",
    "    p0 = 1\n",
    "    p1 = x\n",
    "    sympy.simplify(x)\n",
    "    for i in range(1,N):\n",
    "        p = (2*i+1)/(i+1)*x*p1 - i/(i+1)*p0\n",
    "        p0 = p1\n",
    "        p1 = p\n",
    "    return sympy.simplify(p1)"
   ]
  },
  {
   "cell_type": "code",
   "execution_count": 76,
   "id": "dfab1564-fbe5-4278-b284-186d93b7fb55",
   "metadata": {},
   "outputs": [
    {
     "data": {
      "text/latex": [
       "$\\displaystyle 1.5 x^{2} - 0.5$"
      ],
      "text/plain": [
       "1.5*x**2 - 0.5"
      ]
     },
     "execution_count": 76,
     "metadata": {},
     "output_type": "execute_result"
    }
   ],
   "source": [
    "Legendre(2, sy.symbols('x'))"
   ]
  },
  {
   "cell_type": "code",
   "execution_count": 77,
   "id": "13415429-3c3e-41a4-baa8-cd3513ed89b7",
   "metadata": {},
   "outputs": [
    {
     "name": "stdout",
     "output_type": "stream",
     "text": [
      "[-0.577350269189626, 0.577350269189626]\n",
      "[-0.774596669241483, 0.0, 0.774596669241483]\n",
      "[-0.861136311594053, -0.339981043584856, 0.339981043584856, 0.861136311594053]\n",
      "[-0.906179845938664, -0.538469310105683, 0.0, 0.538469310105683, 0.906179845938664]\n",
      "[-0.932469514203152 + 4.16328475581762e-103*I, -0.661209386466264 + 5.90432806037835e-103*I, -0.238619186083197 - 1.70461700631958e-102*I, 0.238619186083197 - 1.36369360505566e-101*I, 0.661209386466264 + 9.44692489660537e-102*I, 0.932469514203152 - 4.16328475581762e-103*I]\n",
      "[0.0, -0.949107912342758 - 8.475143568547e-103*I, -0.741531185599394 + 2.64862748557095e-102*I, -0.405845151377397 - 3.62403039716727e-103*I, 0.405845151377397 + 3.62403039716727e-103*I, 0.741531185599394 + 9.93235307089107e-103*I, 0.949107912342758 - 2.11878589213675e-103*I]\n",
      "[-0.960289856497536, -0.796666477413627, -0.525532409916329, -0.183434642495650, 0.183434642495650, 0.525532409916329, 0.796666477413627, 0.960289856497536]\n"
     ]
    }
   ],
   "source": [
    "print(sy.solve(Legendre(2, sy.symbols('x'))))\n",
    "print(sy.solve(Legendre(3, sy.symbols('x'))))\n",
    "print(sy.solve(Legendre(4, sy.symbols('x'))))\n",
    "print(sy.solve(Legendre(5, sy.symbols('x'))))\n",
    "print(sy.solve(Legendre(6, sy.symbols('x'))))\n",
    "print(sy.solve(Legendre(7, sy.symbols('x'))))\n",
    "print(sy.solve(Legendre(8, sy.symbols('x'))))"
   ]
  },
  {
   "cell_type": "markdown",
   "id": "60d5c1b7-9792-49f5-8adb-d5efd21606fd",
   "metadata": {},
   "source": [
    "再来求1/(1+x)在0到1上的积分"
   ]
  },
  {
   "cell_type": "code",
   "execution_count": null,
   "id": "b34483aa-c36c-44e4-be5b-3c30b8a5b12f",
   "metadata": {},
   "outputs": [],
   "source": []
  }
 ],
 "metadata": {
  "kernelspec": {
   "display_name": "Python 3 (ipykernel)",
   "language": "python",
   "name": "python3"
  },
  "language_info": {
   "codemirror_mode": {
    "name": "ipython",
    "version": 3
   },
   "file_extension": ".py",
   "mimetype": "text/x-python",
   "name": "python",
   "nbconvert_exporter": "python",
   "pygments_lexer": "ipython3",
   "version": "3.8.16"
  }
 },
 "nbformat": 4,
 "nbformat_minor": 5
}
