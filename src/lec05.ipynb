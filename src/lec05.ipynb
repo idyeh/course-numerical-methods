{
 "cells": [
  {
   "cell_type": "markdown",
   "id": "13944278-19d8-4aeb-9c12-981ba2b38082",
   "metadata": {
    "tags": []
   },
   "source": [
    "# 第 5 讲：数值线性代数"
   ]
  },
  {
   "cell_type": "code",
   "execution_count": 1,
   "id": "51898569-3ccc-4929-973a-033243236ff1",
   "metadata": {},
   "outputs": [],
   "source": [
    "import numpy as np\n",
    "import sympy as sp\n",
    "import matplotlib.pyplot as plt"
   ]
  },
  {
   "cell_type": "markdown",
   "id": "b69b3dff-310c-4b42-9f96-0e7f25558316",
   "metadata": {},
   "source": [
    "## 线性最小二乘"
   ]
  },
  {
   "cell_type": "markdown",
   "id": "43e2b262-7839-4627-8874-dda0f579889c",
   "metadata": {},
   "source": [
    "假如使用数据点 $y_i - \\hat{y}$ 距离的平方和作为度量，即\n",
    "\n",
    "$ E_2(a_0, a_1) = \\sum_{i=0}^n (y_i - \\hat{y})^2 = \\sum_{i=0}^n[y_i - (a_0x_i + a_1)]^2$\n",
    "\n",
    "这就是最小二乘(least squares). 它是求解最佳线性逼近的最方便的方法. 此外， 这个方法还包含误差的统计分布，对权重在数据点的分配策略比极小极大方法、绝对偏差方法更具理论优势.\n",
    "\n",
    "分别对令其对 a0 和 a1 求偏导数\n",
    "\n",
    "$$ \\frac{\\partial{E}}{\\partial{a_0}} =0, \\frac{\\partial{E}}{\\partial{a_1}} =0 $$\n",
    "\n",
    "易得\n",
    "\n",
    "$$ a_0m + a_1\\sum_{i=1}^mx_i=\\sum_{i=1}^my_i , a_0\\sum_{i=1}^mx_i + a_1\\sum_{i=1}^mx_i^2 = \\sum_{i=1}^mx_iy_i$$"
   ]
  },
  {
   "cell_type": "markdown",
   "id": "a47748e2-1c33-42f3-ac8d-b5b3f8dfcb31",
   "metadata": {},
   "source": [
    "给出以下数据来验证Hooke定律的实验数据点，求拟合这些数据点的直线方程"
   ]
  },
  {
   "cell_type": "code",
   "execution_count": 2,
   "id": "008ee1aa-7692-4106-a089-045117e0bcb1",
   "metadata": {},
   "outputs": [],
   "source": [
    "xs = [1, 2 ,3, 4, 5, 6, 7, 8, 9, 10]\n",
    "ys = [1.3, 3.5, 4.2, 5.0, 7.0, 8.8, 10.1, 12.5, 13.0, 15.6]"
   ]
  },
  {
   "cell_type": "code",
   "execution_count": 3,
   "id": "4e95d32f-2d2c-45d1-9648-bde09f6b34c8",
   "metadata": {},
   "outputs": [],
   "source": [
    "def linear_least_squares(xs, ys):\n",
    "    n = len(xs)\n",
    "    sum_x = sum(xs)\n",
    "    sum_y = sum(ys)\n",
    "    sum_x_2 = sum( x** 2 for x in xs )\n",
    "    sum_xy = sum(xs[i] * ys[i] for i in range(n))\n",
    "    a0 = (sum_x_2*sum_y - sum_xy*sum_x) / ( n * sum_x_2 - sum_x**2 )\n",
    "    a1 = (n * sum_xy - sum_x * sum_y) / ( n * sum_x_2 - sum_x**2 )\n",
    "    return a0, a1"
   ]
  },
  {
   "cell_type": "code",
   "execution_count": 4,
   "id": "c9b3e1fe-6616-47ae-aaeb-80bff5fd9758",
   "metadata": {},
   "outputs": [
    {
     "name": "stdout",
     "output_type": "stream",
     "text": [
      "-0.3600000000000044\n",
      "1.5381818181818192\n"
     ]
    }
   ],
   "source": [
    "a0, a1 = linear_least_squares(xs, ys)\n",
    "print(a0)\n",
    "print(a1)"
   ]
  },
  {
   "cell_type": "markdown",
   "id": "d6b59178-1ca6-4b60-b1ae-8dd7a87f2b61",
   "metadata": {},
   "source": [
    "## Gram-Schmidt正交化过程"
   ]
  },
  {
   "cell_type": "markdown",
   "id": "102e74ff-4444-4967-9f00-a0167c465db4",
   "metadata": {},
   "source": [
    "### 函数的正交"
   ]
  },
  {
   "cell_type": "markdown",
   "id": "beb88840-29a6-46d5-879d-bb65d5981945",
   "metadata": {},
   "source": [
    "设$ f(x), g(x) \\in C[a, b] $ $ (f, g) = \\int_a^bw(x)f(x)g(x)dx = 0 $，若\n",
    "\n",
    "$$ (f, g) = \\int_a^bw(x)f(x)g(x) = 0 $$\n",
    "\n",
    "则称$ f(x) $ 与 $ g(x) $在$ [a, b] $上带权$ w(x) $正交"
   ]
  },
  {
   "cell_type": "markdown",
   "id": "775109d7-52d0-4257-a545-7196fc19ef1f",
   "metadata": {},
   "source": [
    "### 正交函数族"
   ]
  },
  {
   "cell_type": "markdown",
   "id": "1af9f9f0-b06c-46af-b40d-186c7f045a1c",
   "metadata": {},
   "source": [
    "当$ w(x) \\equiv 1 $且 $ \\phi_k(x) = x^k $时，推出正规方程\n",
    "\n",
    "$$ \\sum_{k=0}^na_k)\\int_a^bw(x)\\phi_k(x)\\phi_j(x)dx = \\int_a^bw(x)\\phi_j(x)f(x)dx$$"
   ]
  },
  {
   "cell_type": "markdown",
   "id": "1b02313d-8fbe-4488-8aee-6230940f9458",
   "metadata": {},
   "source": [
    "设函数$ \\phi_0, \\phi_1, \\ldots,\\phi_k \\in C[a,b]$，$ w(x) $是在$ [a,b] $上的权函数若\n",
    "\n",
    "$$ (\\phi_k, \\phi_j) = \\int_a^bw(x)\\phi_k(x)\\phi_j(x)dx$$\n",
    "\n",
    "$$ (\\phi_k, \\phi_j) = \\int_a^bw(x)\\phi_k(x)\\phi_j(x)dx=\\begin{cases}\n",
    "0 & j\\neq k \\\\\n",
    "A_j\\neq 0 & j =k \\\\\n",
    "\\end{cases}$$"
   ]
  },
  {
   "cell_type": "markdown",
   "id": "97fd7bb7-5b3a-4ada-ba91-944ede699085",
   "metadata": {},
   "source": [
    "且当 $ k >= 2 $时，$ \\phi_k(x) = (x - B_k)\\phi_{k-1}(x) -  C_k\\phi_{k-2}(x)$\n",
    "\n",
    "其中$ \\phi_0 = 1 $，$ \\phi_1 =  x $，$ B_k =  \\frac {x\\phi_{k-1} \\quad \\phi_{k-1}} {\\phi_{k-1} \\quad \\phi_{k-1}} $，$ C_k =  \\frac {x\\phi_{k-1} \\quad \\phi_{k-2}} {\\phi_{k-2} \\quad \\phi_{k-2}} $ "
   ]
  },
  {
   "cell_type": "code",
   "execution_count": 5,
   "id": "6f82eff6-eaa3-479a-9a6a-5bbb533a8ec7",
   "metadata": {},
   "outputs": [],
   "source": [
    "def Gram_Schmidt_Legendre(n):\n",
    "    x = sp.symbols('x')\n",
    "    B = [0, 0]\n",
    "    phi = [1, x]\n",
    "    C = [0, 0]\n",
    "\n",
    "    for k in range(2, n+1):\n",
    "        B.append( sp.integrate(x*phi[k-1]**2, (x, -1, 1)) / sp.integrate(phi[k-1]**2, (x, -1, 1)) )\n",
    "        C.append( sp.integrate(x*phi[k-2]*phi[k-1], (x, -1, 1)) / sp.integrate(phi[k-2]**2, (x, -1, 1)) )\n",
    "        phi.append( (x - B[k]) * phi[k-1] - C[k]*phi[k-2] )\n",
    "        \n",
    "    return phi[n]"
   ]
  },
  {
   "cell_type": "code",
   "execution_count": 6,
   "id": "f94ceb35-cc45-40ca-8d1a-f54c297e076e",
   "metadata": {},
   "outputs": [
    {
     "data": {
      "text/latex": [
       "$\\displaystyle x \\left(x^{2} - \\frac{3}{5}\\right)$"
      ],
      "text/plain": [
       "x*(x**2 - 3/5)"
      ]
     },
     "execution_count": 6,
     "metadata": {},
     "output_type": "execute_result"
    }
   ],
   "source": [
    "sp.simplify(Gram_Schmidt_Legendre(3))"
   ]
  },
  {
   "cell_type": "code",
   "execution_count": 7,
   "id": "b748a49f-4836-438b-9353-63953ec9061d",
   "metadata": {},
   "outputs": [
    {
     "data": {
      "text/latex": [
       "$\\displaystyle x^{4} - \\frac{6 x^{2}}{7} + \\frac{3}{35}$"
      ],
      "text/plain": [
       "x**4 - 6*x**2/7 + 3/35"
      ]
     },
     "execution_count": 7,
     "metadata": {},
     "output_type": "execute_result"
    }
   ],
   "source": [
    "sp.simplify(Gram_Schmidt_Legendre(4))"
   ]
  },
  {
   "cell_type": "code",
   "execution_count": 8,
   "id": "38efd3ca-596a-48e4-b08d-b5797f733510",
   "metadata": {},
   "outputs": [
    {
     "data": {
      "text/latex": [
       "$\\displaystyle \\frac{x \\left(63 x^{4} - 70 x^{2} + 15\\right)}{63}$"
      ],
      "text/plain": [
       "x*(63*x**4 - 70*x**2 + 15)/63"
      ]
     },
     "execution_count": 8,
     "metadata": {},
     "output_type": "execute_result"
    }
   ],
   "source": [
    "sp.simplify(Gram_Schmidt_Legendre(5))"
   ]
  },
  {
   "cell_type": "markdown",
   "id": "e778cb83-d8f5-4492-88fa-4bf602323fe0",
   "metadata": {},
   "source": [
    "## 线性方程组"
   ]
  },
  {
   "cell_type": "markdown",
   "id": "a0a21ad0-adc4-46f5-a57a-4a099a7d6600",
   "metadata": {},
   "source": [
    "### 直接法"
   ]
  },
  {
   "cell_type": "markdown",
   "id": "7f268860-5f36-4a0b-811e-4ff2adc332e5",
   "metadata": {},
   "source": [
    "#### Gauss消去法（列主元法）"
   ]
  },
  {
   "cell_type": "code",
   "execution_count": 9,
   "id": "3eeba231-71fe-48fd-b09b-e87d3ffff964",
   "metadata": {},
   "outputs": [],
   "source": [
    "def Gaussian_Elimination(A, b):\n",
    "    n = len(A)\n",
    "\n",
    "    Ab = np.concatenate((A, b.reshape(n, 1)), axis=1)\n",
    "\n",
    "    for i in range(n):\n",
    "        max_row = i\n",
    "        for j in range(i+1, n):\n",
    "            if abs(Ab[j, i]) > abs(Ab[max_row, i]):\n",
    "                max_row = j\n",
    "\n",
    "        Ab[[i, max_row]] = Ab[[max_row, i]]\n",
    "\n",
    "        for j in range(i+1, n):\n",
    "            Ab[j] = Ab[j] - Ab[i] * (Ab[j][i] / Ab[i][i])\n",
    "\n",
    "    x = np.zeros(n)\n",
    "    for i in range(n-1, -1,  -1):\n",
    "        x[i] = (Ab[i][n] - np.dot(Ab[i][i+1:n], x[i+1:n])) / Ab[i][i]\n",
    "\n",
    "    return x"
   ]
  },
  {
   "cell_type": "code",
   "execution_count": 10,
   "id": "55a92927-e540-451f-8e92-99773cb2e039",
   "metadata": {},
   "outputs": [
    {
     "data": {
      "text/plain": [
       "array([ 2.5,  2. , -1. ])"
      ]
     },
     "execution_count": 10,
     "metadata": {},
     "output_type": "execute_result"
    }
   ],
   "source": [
    "A = np.array([[2, 1, -1], [4, -6, 0], [-2, 7, 2]])\n",
    "b = np.array([8, -2, 7])\n",
    "Gaussian_Elimination(A,b)"
   ]
  },
  {
   "cell_type": "code",
   "execution_count": 11,
   "id": "d2a6cafb-3ada-4093-86ca-cbac7057eff2",
   "metadata": {},
   "outputs": [
    {
     "data": {
      "text/plain": [
       "array([ 2.5,  2. , -1. ])"
      ]
     },
     "execution_count": 11,
     "metadata": {},
     "output_type": "execute_result"
    }
   ],
   "source": [
    "x = np.linalg.solve(A, b)\n",
    "x"
   ]
  },
  {
   "cell_type": "markdown",
   "id": "a9a54bd7-1ca9-4333-a05d-946d894661ef",
   "metadata": {},
   "source": [
    "### 迭代法"
   ]
  },
  {
   "cell_type": "markdown",
   "id": "af8eb724-03a9-43a7-b736-0d33c75fc3a7",
   "metadata": {},
   "source": [
    "直接法算法运算量为O($ n^3 $)，随着矩阵规模的增长，运算量也随之**快速增长**\n",
    "\n",
    "而对于大规模的稀疏矩阵，当前的首选方法是**迭代法**"
   ]
  },
  {
   "cell_type": "markdown",
   "id": "8e0ff088-31ca-4479-b65e-fa6bc9658581",
   "metadata": {},
   "source": [
    "三种经典迭代方法Jacobi，Gauss-Seidela，SOR"
   ]
  },
  {
   "cell_type": "markdown",
   "id": "8f54c574-ced5-49a2-b851-9927105fa800",
   "metadata": {},
   "source": [
    "### Jacobi"
   ]
  },
  {
   "cell_type": "code",
   "execution_count": 12,
   "id": "f02c77d3-582a-4709-8ef0-69a0407183ba",
   "metadata": {},
   "outputs": [],
   "source": [
    "def Jacobi_iteration(A, b, n):\n",
    "    X = np.zeros(len(A)).reshape(-1,1)\n",
    "    k = 1\n",
    "    while k <= n:\n",
    "        for i in range(len(A)):\n",
    "            temp = 0\n",
    "            for j in range(len(A)):\n",
    "                if j != i:\n",
    "                    temp += A[i][j]*X[j]\n",
    "            X[i] = (b[i] - temp)/A[i][i]\n",
    "        k = k + 1\n",
    "    # print(X)\n",
    "    return X"
   ]
  },
  {
   "cell_type": "code",
   "execution_count": 13,
   "id": "4480f1a3-3bf3-4a19-9e12-f992e27fcbce",
   "metadata": {},
   "outputs": [
    {
     "name": "stdout",
     "output_type": "stream",
     "text": [
      "[[0.]\n",
      " [0.]\n",
      " [0.]]\n",
      "[[0.3  ]\n",
      " [1.56 ]\n",
      " [2.684]]\n",
      "[[0.8804  ]\n",
      " [1.94448 ]\n",
      " [2.953872]]\n",
      "[[0.9842832 ]\n",
      " [1.99224384]\n",
      " [2.99375418]]\n",
      "[[0.99782419]\n",
      " [1.99894025]\n",
      " [2.99914094]]\n"
     ]
    }
   ],
   "source": [
    "A = np.array([[10, -2, -1],[-2, 10, -1],[-1, -2, 5]])\n",
    "b = np.array([3, 15, 10])\n",
    "print(Jacobi_iteration(A, b, 0))\n",
    "print(Jacobi_iteration(A, b, 1))\n",
    "print(Jacobi_iteration(A, b, 2))\n",
    "print(Jacobi_iteration(A, b, 3))\n",
    "print(Jacobi_iteration(A, b, 4))"
   ]
  },
  {
   "cell_type": "markdown",
   "id": "388ce75d-b215-4d5f-8077-4ed6a197461b",
   "metadata": {},
   "source": [
    "### SOR"
   ]
  },
  {
   "cell_type": "markdown",
   "id": "42b474d6-206b-448f-8d42-f81d08c37bce",
   "metadata": {},
   "source": [
    "当松弛参数为1时，即**Gauss-Seidela**\n",
    "\n",
    "当松弛参数w < 1时，称为**低松弛方法**\n",
    "\n",
    "当松弛参数w > 1时，称为**超松弛方法**\n",
    "\n",
    "一般情况下取w > 1会获得较好的收敛情况"
   ]
  },
  {
   "cell_type": "markdown",
   "id": "ab6033df-4afc-4bff-9c95-9a4ebba6a30e",
   "metadata": {},
   "source": [
    "确定 SOR 的最优松弛因子是一件非常困难的事!"
   ]
  },
  {
   "cell_type": "code",
   "execution_count": 14,
   "id": "c0214912-0554-4aa6-a5b4-d928c9d1f5cb",
   "metadata": {},
   "outputs": [],
   "source": [
    "def Gauss_Seidela(A, b, w, n):\n",
    "    X_new = np.zeros(len(A)).reshape(-1, 1)\n",
    "    X_old = np.zeros(len(A)).reshape(-1, 1)\n",
    "    k = 1\n",
    "    while k <= n:\n",
    "        for i in range(len(A)):\n",
    "            X_new[i] = (1 - w) * X_old[i] + (w / A[i][i]) * (b[i] - sum([A[i][j] * X_new[j] for j in range(i)])\n",
    "                                                           - sum([A[i][j] * X_old[j] for j in range(i+1, len(A))]))\n",
    "            X_old[i] = X_new[i]\n",
    "        k = k+1\n",
    "    return X_new"
   ]
  },
  {
   "cell_type": "code",
   "execution_count": 15,
   "id": "9019a7ff-dd0a-441e-b218-ab6ecf7d52be",
   "metadata": {},
   "outputs": [
    {
     "data": {
      "text/plain": [
       "array([[0.99999999],\n",
       "       [1.99999999],\n",
       "       [2.99999999]])"
      ]
     },
     "execution_count": 15,
     "metadata": {},
     "output_type": "execute_result"
    }
   ],
   "source": [
    "Gauss_Seidela(A, b, 1, 10)"
   ]
  },
  {
   "cell_type": "markdown",
   "id": "ea36dca3-5a07-41c5-b79b-1e810738d49d",
   "metadata": {
    "tags": []
   },
   "source": [
    "## 基于 Householder 变换 "
   ]
  },
  {
   "cell_type": "code",
   "execution_count": 28,
   "id": "a42da825-9166-4c2d-8c44-2470f5e7d34d",
   "metadata": {},
   "outputs": [],
   "source": [
    "def householder_reflection(A):\n",
    "    \"\"\"Householder变换\"\"\"\n",
    "    (r, c) = np.shape(A)\n",
    "    Q = np.identity(r)\n",
    "    R = np.copy(A)\n",
    "    for cnt in range(r - 1):\n",
    "        x = R[cnt:, cnt]\n",
    "        e = np.zeros_like(x)\n",
    "        e[0] = np.linalg.norm(x)\n",
    "        u = x - e\n",
    "        v = u / np.linalg.norm(u)\n",
    "        Q_cnt = np.identity(r)\n",
    "        Q_cnt[cnt:, cnt:] = Q_cnt[cnt:, cnt:] - 2.0 * np.outer(v, v)\n",
    "        R = np.dot(Q_cnt, R)\n",
    "        Q = np.dot(Q, Q_cnt)\n",
    "    return (Q, R)"
   ]
  },
  {
   "cell_type": "code",
   "execution_count": 29,
   "id": "9ad75ebe-90d6-4b66-b138-55ec865b8200",
   "metadata": {},
   "outputs": [
    {
     "name": "stdout",
     "output_type": "stream",
     "text": [
      "[[ 0.8        -0.15096588  0.57749944  0.06085806]\n",
      " [ 0.2         0.90579529 -0.07874992  0.36514837]\n",
      " [-0.4         0.34506487  0.69562432 -0.4868645 ]\n",
      " [ 0.4         0.19409899 -0.41999959 -0.79115481]]\n",
      "[[ 5.00000000e+00  1.60000000e+00 -3.60000000e+00  3.00000000e+00]\n",
      " [ 0.00000000e+00  1.85472370e+00  9.48928404e-01  1.07832773e-01]\n",
      " [ 0.00000000e+00  2.49536316e-16  1.77187327e+00 -7.34999282e-01]\n",
      " [ 0.00000000e+00  1.91837913e-16 -1.32693068e-16  6.69438681e-01]]\n"
     ]
    },
    {
     "data": {
      "text/plain": [
       "array([[ 4.00000000e+00,  1.00000000e+00, -2.00000000e+00,\n",
       "         2.00000000e+00],\n",
       "       [ 1.00000000e+00,  2.00000000e+00, -3.60140743e-16,\n",
       "         1.00000000e+00],\n",
       "       [-2.00000000e+00, -2.35286067e-16,  3.00000000e+00,\n",
       "        -2.00000000e+00],\n",
       "       [ 2.00000000e+00,  1.00000000e+00, -2.00000000e+00,\n",
       "         1.00000000e+00]])"
      ]
     },
     "execution_count": 29,
     "metadata": {},
     "output_type": "execute_result"
    }
   ],
   "source": [
    "A = np.array([[4, 1, -2, 2], [1, 2, 0, 1], [-2, 0, 3, -2], [2, 1, -2, 1]])\n",
    "x1, x2 = householder_reflection(A)\n",
    "print(x1)\n",
    "print(x2)\n",
    "np.dot(x1, x2)"
   ]
  },
  {
   "cell_type": "code",
   "execution_count": null,
   "id": "20c1fc2e-6987-46a3-9f18-6b8737bfa7f1",
   "metadata": {},
   "outputs": [],
   "source": []
  }
 ],
 "metadata": {
  "kernelspec": {
   "display_name": "Python 3 (ipykernel)",
   "language": "python",
   "name": "python3"
  },
  "language_info": {
   "codemirror_mode": {
    "name": "ipython",
    "version": 3
   },
   "file_extension": ".py",
   "mimetype": "text/x-python",
   "name": "python",
   "nbconvert_exporter": "python",
   "pygments_lexer": "ipython3",
   "version": "3.8.16"
  }
 },
 "nbformat": 4,
 "nbformat_minor": 5
}
