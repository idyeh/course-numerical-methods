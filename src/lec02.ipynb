{
 "cells": [
  {
   "cell_type": "markdown",
   "id": "dc918f7d-2ef5-44a0-9877-377cb5a5ab96",
   "metadata": {},
   "source": [
    "# 第 2 讲：求根问题"
   ]
  },
  {
   "cell_type": "markdown",
   "id": "922f97bf-4beb-4b61-bb9a-5fbaa6648696",
   "metadata": {},
   "source": [
    "## 人口增长\n",
    "\n",
    "建立模型\n",
    "\n",
    "$$N(t)=N_0e^{\\lambda t}+\\frac{v}{\\lambda}(e^{\\lambda t}-1)$$\n",
    "\n",
    "已知数据\n",
    "\n",
    "- $N(0)=1000000$（人）\n",
    "- $N(1)=1564000$（人）\n",
    "- $v=435000$（人/年）\n",
    "- $\\Delta t = 1$（年）\n",
    "\n",
    "求解方程（求出参数 $\\lambda$）\n",
    "\n",
    "$$1564000 = 1000000 e^\\lambda + \\frac{435000}{\\lambda}(e^\\lambda-1)$$\n"
   ]
  },
  {
   "cell_type": "code",
   "execution_count": 1,
   "id": "cc08fa42-b46d-4a9b-b6e2-7612ade04aea",
   "metadata": {
    "tags": []
   },
   "outputs": [],
   "source": [
    "import math\n",
    "import numpy as np\n",
    "import matplotlib.pyplot as plt"
   ]
  },
  {
   "cell_type": "code",
   "execution_count": 2,
   "id": "18103c7d-bb3f-4485-a86c-d5575a22da6e",
   "metadata": {
    "tags": []
   },
   "outputs": [],
   "source": [
    "def e(x, n=20):\n",
    "    e_p = 0\n",
    "    for i in range(n):\n",
    "        e_p += x ** i / math.factorial(i)\n",
    "    return e_p"
   ]
  },
  {
   "cell_type": "code",
   "execution_count": 3,
   "id": "f670233c-dd3b-4164-863e-e1b6147c47e8",
   "metadata": {
    "tags": []
   },
   "outputs": [],
   "source": [
    "def f(x, e_func=e, eps=1e-4):\n",
    "    x = x or eps\n",
    "    if e_func:\n",
    "        p = e_func(x)\n",
    "    else:\n",
    "        p = math.exp(x)\n",
    "    return p + 0.435 * (p - 1) / x - 1.564"
   ]
  },
  {
   "cell_type": "code",
   "execution_count": 4,
   "id": "865eadb2-ee44-482a-a513-5ac15ef8a288",
   "metadata": {
    "tags": []
   },
   "outputs": [],
   "source": [
    "def df(x, e_func=e, eps=1e-4):\n",
    "    x = x or eps\n",
    "    if e_func:\n",
    "        p = e_func(x)\n",
    "    else:\n",
    "        p = math.exp(x)\n",
    "    return p - 0.435 * (p - 1) / x / x + 0.435 * p / x"
   ]
  },
  {
   "cell_type": "code",
   "execution_count": 5,
   "id": "7102497e-d581-4646-8a8d-5369698a4300",
   "metadata": {
    "tags": []
   },
   "outputs": [
    {
     "data": {
      "text/plain": [
       "<matplotlib.legend.Legend at 0x7f99643c7400>"
      ]
     },
     "execution_count": 5,
     "metadata": {},
     "output_type": "execute_result"
    },
    {
     "data": {
      "image/png": "[encoded data removed]",
      "text/plain": [
       "<Figure size 640x480 with 1 Axes>"
      ]
     },
     "metadata": {},
     "output_type": "display_data"
    }
   ],
   "source": [
    "a, b = -5, 5\n",
    "xs = np.linspace(a, b, 100)\n",
    "ys = [f(x) for x in xs]\n",
    "ys2 = [f(x, math.exp) for x in xs]\n",
    "plt.plot(xs, ys, 'bx', label='my exp')\n",
    "plt.plot(xs, ys2, 'r-', label='math.exp')\n",
    "plt.legend()"
   ]
  },
  {
   "cell_type": "markdown",
   "id": "da94838a-8531-441f-bc6d-9ab4071aaaab",
   "metadata": {},
   "source": [
    "## 求根算法"
   ]
  },
  {
   "cell_type": "code",
   "execution_count": 6,
   "id": "e16476db-ddef-4f77-b5c1-4c6a36327f73",
   "metadata": {
    "tags": []
   },
   "outputs": [],
   "source": [
    "test_f = lambda x : x * x - 2\n",
    "test_df = lambda x : 2 * x\n",
    "test_g = lambda x : x / (x + 2) + 1\n",
    "\n",
    "def tester(f, *args):\n",
    "    while True:\n",
    "        if f(*args):\n",
    "            print(\"SUCCESS\")\n",
    "        else:\n",
    "            print(\"FAIL\")\n",
    "        break"
   ]
  },
  {
   "cell_type": "code",
   "execution_count": 7,
   "id": "0645cfb3-28e3-4202-a92a-21069021b82e",
   "metadata": {
    "tags": []
   },
   "outputs": [],
   "source": [
    "def bisection(f, a, b, t, n):\n",
    "    '''\n",
    "        root finding - bisection method\n",
    "    '''\n",
    "    \n",
    "    i = 1\n",
    "    fa = f(a)\n",
    "    while i <= n:\n",
    "        inc = (b - a) / 2\n",
    "        p = a + inc\n",
    "        fp = f(p)\n",
    "        if math.isclose(fp, 0) or inc < t:\n",
    "            print(f\"The result is {p}\") # success\n",
    "            return True\n",
    "        i = i + 1\n",
    "        if fa * fp > 0:\n",
    "            a = p\n",
    "            fa = fp\n",
    "        else:\n",
    "            b = p\n",
    "            \n",
    "    print(\"At max iteration!\") # fail\n",
    "    return False"
   ]
  },
  {
   "cell_type": "code",
   "execution_count": 8,
   "id": "5c90e1ea-7271-406e-9d0a-91e7e545c20d",
   "metadata": {
    "tags": []
   },
   "outputs": [
    {
     "name": "stdout",
     "output_type": "stream",
     "text": [
      "The result is 1.4142135605216026\n",
      "SUCCESS\n"
     ]
    }
   ],
   "source": [
    "tester(bisection, test_f, 1., 2., 1e-8, 50)"
   ]
  },
  {
   "cell_type": "code",
   "execution_count": 9,
   "id": "981cf8f4-346c-458e-8167-5ba5cdd0e1a6",
   "metadata": {
    "tags": []
   },
   "outputs": [],
   "source": [
    "def fixed_point(g, p0, t, n):\n",
    "    '''\n",
    "        root finding - fixed-point iteration\n",
    "    '''\n",
    "    \n",
    "    i = 1\n",
    "    while i <= n:\n",
    "        p = g(p0)\n",
    "        if math.fabs(p - p0) < t:\n",
    "            print(f\"The result is {p}\") # success\n",
    "            return True\n",
    "        i = i + 1\n",
    "        p0 = p\n",
    "        \n",
    "    print(\"At max iteration!\") # fail\n",
    "    return False"
   ]
  },
  {
   "cell_type": "code",
   "execution_count": 10,
   "id": "0c77e0c2-b0f5-4e5b-adea-cdb39ce057bb",
   "metadata": {
    "tags": []
   },
   "outputs": [
    {
     "name": "stdout",
     "output_type": "stream",
     "text": [
      "The result is 1.4142135605326258\n",
      "SUCCESS\n"
     ]
    }
   ],
   "source": [
    "# f(x) = x^2 - 2\n",
    "# x = g(x) = x / (x + 2) + 1\n",
    "\n",
    "tester(fixed_point, test_g, 1., 1e-8, 50)"
   ]
  },
  {
   "cell_type": "code",
   "execution_count": 11,
   "id": "98c1773a-6e91-43f9-abc1-567a0779abc9",
   "metadata": {
    "tags": []
   },
   "outputs": [],
   "source": [
    "def newton(f, df, p0, t, n):\n",
    "    '''\n",
    "        root finding - Newton method\n",
    "    '''\n",
    "    \n",
    "    i = 1\n",
    "    while i <= n:\n",
    "        p = p0 - f(p0) / df(p0)\n",
    "        if math.fabs(p - p0) < t:\n",
    "            print(f\"The result is {p}\") # success\n",
    "            return True\n",
    "        i = i + 1\n",
    "        p0 = p\n",
    "            \n",
    "    print(\"At max iteration!\") # fail\n",
    "    return False"
   ]
  },
  {
   "cell_type": "code",
   "execution_count": 12,
   "id": "4d460823-b6df-4a20-901b-0c649d4829a2",
   "metadata": {
    "tags": []
   },
   "outputs": [
    {
     "name": "stdout",
     "output_type": "stream",
     "text": [
      "The result is 1.4142135623730951\n",
      "SUCCESS\n"
     ]
    }
   ],
   "source": [
    "tester(newton, test_f, test_df, 1., 1e-8, 50)"
   ]
  },
  {
   "cell_type": "code",
   "execution_count": 13,
   "id": "a6a46800-9de4-4af5-ae8d-cd410f0ae87d",
   "metadata": {
    "tags": []
   },
   "outputs": [],
   "source": [
    "def secant(f, p0, p1, t, n):\n",
    "    '''\n",
    "        root finding - secant method\n",
    "    '''\n",
    "    \n",
    "    i = 2\n",
    "    q0 = f(p0)\n",
    "    q1 = f(p1)\n",
    "    while i <= n:\n",
    "        p = p1 - q1 * (p1 - p0) / (q1 - q0)\n",
    "        if math.fabs(p - p1) < t:\n",
    "            print(f\"The result is {p}\") # success\n",
    "            return True\n",
    "        i = i + 1\n",
    "        p0 = p1\n",
    "        q0 = q1\n",
    "        p1 = p\n",
    "        q1 = f(p)\n",
    "            \n",
    "    print(\"At max iteration!\") # fail\n",
    "    return False"
   ]
  },
  {
   "cell_type": "code",
   "execution_count": 14,
   "id": "e56ed610-1440-4c3c-8ae7-937277d4d4a4",
   "metadata": {
    "tags": []
   },
   "outputs": [
    {
     "name": "stdout",
     "output_type": "stream",
     "text": [
      "The result is 1.4142135623730954\n",
      "SUCCESS\n"
     ]
    }
   ],
   "source": [
    "tester(secant, test_f, 1., 2., 1e-8, 50)"
   ]
  },
  {
   "cell_type": "code",
   "execution_count": 15,
   "id": "7da76f75-b4b1-4b45-acc7-9efba2a8aaff",
   "metadata": {
    "tags": []
   },
   "outputs": [],
   "source": [
    "def regula_falsi(f, p0, p1, t, n):\n",
    "    '''\n",
    "        root finding - regula falsi method\n",
    "    '''\n",
    "    \n",
    "    i = 2\n",
    "    q0 = f(p0)\n",
    "    q1 = f(p1)\n",
    "    while i <= n:\n",
    "        p = p1 - q1 * (p1 - p0) / (q1 - q0)\n",
    "        if math.fabs(p - p1) < t:\n",
    "            print(f\"The result is {p}\") # success\n",
    "            return True\n",
    "        i = i + 1\n",
    "        q = f(p)\n",
    "        if q * q1 < 0:\n",
    "            p0 = p1\n",
    "            q0 = q1\n",
    "        p1 = p\n",
    "        q1 = q\n",
    "            \n",
    "    print(\"At max iteration!\") # fail\n",
    "    return False"
   ]
  },
  {
   "cell_type": "code",
   "execution_count": 16,
   "id": "1c71cb7f-85c4-463d-ba28-ae54ebe048d4",
   "metadata": {
    "tags": []
   },
   "outputs": [
    {
     "name": "stdout",
     "output_type": "stream",
     "text": [
      "The result is 1.4142135605326258\n",
      "SUCCESS\n"
     ]
    }
   ],
   "source": [
    "tester(regula_falsi, test_f, 1., 2., 1e-8, 50)"
   ]
  },
  {
   "cell_type": "markdown",
   "id": "d0b47bd8-5a4e-4b21-ad4e-2a9f3afc4902",
   "metadata": {},
   "source": [
    "## 回到人口增长"
   ]
  },
  {
   "cell_type": "code",
   "execution_count": 17,
   "id": "5de96ccd-3ae7-4c52-9717-7ba679bd5fde",
   "metadata": {
    "tags": []
   },
   "outputs": [
    {
     "name": "stdout",
     "output_type": "stream",
     "text": [
      "The result is 0.10099793784320354\n",
      "SUCCESS\n"
     ]
    }
   ],
   "source": [
    "tester(bisection, f, a, b, 1e-8, 1000)"
   ]
  },
  {
   "cell_type": "code",
   "execution_count": 18,
   "id": "bc3e7d43-ed04-4b82-b53e-74659e1926ab",
   "metadata": {
    "tags": []
   },
   "outputs": [
    {
     "name": "stdout",
     "output_type": "stream",
     "text": [
      "The result is 0.1009979296857512\n",
      "SUCCESS\n"
     ]
    }
   ],
   "source": [
    "tester(newton, f, df, a, 1e-8, 1000)"
   ]
  },
  {
   "cell_type": "code",
   "execution_count": 19,
   "id": "95683009-24e0-4ca5-b75c-87b4c50da48f",
   "metadata": {},
   "outputs": [
    {
     "name": "stdout",
     "output_type": "stream",
     "text": [
      "The result is -4.818414018454159\n",
      "SUCCESS\n"
     ]
    }
   ],
   "source": [
    "tester(secant, f, a, b, 1e-8, 1000)"
   ]
  },
  {
   "cell_type": "code",
   "execution_count": 20,
   "id": "1ee8ec4a-674c-45c4-99a0-f3fba5bfdb93",
   "metadata": {
    "tags": []
   },
   "outputs": [
    {
     "name": "stdout",
     "output_type": "stream",
     "text": [
      "The result is 0.10099769959373296\n",
      "SUCCESS\n"
     ]
    }
   ],
   "source": [
    "tester(regula_falsi, f, a, b, 1e-8, 1000)"
   ]
  },
  {
   "cell_type": "code",
   "execution_count": 21,
   "id": "f919e7de-ff5e-4843-a93d-39a62657eaef",
   "metadata": {
    "tags": []
   },
   "outputs": [
    {
     "name": "stdout",
     "output_type": "stream",
     "text": [
      "The result is -3.221416542224628e-08\n",
      "SUCCESS\n"
     ]
    }
   ],
   "source": [
    "def g(x, e_func=e, eps=1e-4):\n",
    "    x = x or eps\n",
    "    if e_func:\n",
    "        p = e_func(x)\n",
    "    else:\n",
    "        p = math.exp(x)\n",
    "    return 0.435 * (p - 1) / (1.564 - p)\n",
    "\n",
    "tester(fixed_point, g, 1., 1e-8, 100)"
   ]
  },
  {
   "cell_type": "markdown",
   "id": "0e8ca429-f484-4b8b-a716-6a31f1587689",
   "metadata": {},
   "source": [
    "## 秦九韶算法"
   ]
  },
  {
   "cell_type": "code",
   "execution_count": 22,
   "id": "980ff734-7837-444f-8692-7dd12161346a",
   "metadata": {
    "tags": []
   },
   "outputs": [],
   "source": [
    "def poly_naive(a, x):\n",
    "    p = 0\n",
    "    for i, ai in enumerate(a):\n",
    "        p += (x ** i) * ai\n",
    "    return p"
   ]
  },
  {
   "cell_type": "code",
   "execution_count": 23,
   "id": "8137d0ea-f429-4209-9682-3c3447f6a8fc",
   "metadata": {
    "tags": []
   },
   "outputs": [],
   "source": [
    "def poly_iter(a, x):\n",
    "    p = 0\n",
    "    xn = 1\n",
    "    for ai in a:\n",
    "        p += xn * ai\n",
    "        xn *= x\n",
    "    return p"
   ]
  },
  {
   "cell_type": "code",
   "execution_count": 24,
   "id": "09d43b41-6859-47f9-82f3-17a4d1979e30",
   "metadata": {
    "tags": []
   },
   "outputs": [],
   "source": [
    "def poly(a, x):\n",
    "    p = a[-1]\n",
    "    i = len(a) - 2\n",
    "    while i >= 0:\n",
    "        p = p * x + a[i]\n",
    "        i -= 1\n",
    "    return p"
   ]
  },
  {
   "cell_type": "code",
   "execution_count": 25,
   "id": "c1e9d99d-63f3-499d-b3a0-54efa7b063c6",
   "metadata": {
    "tags": []
   },
   "outputs": [],
   "source": [
    "test_a = [-19, 7, -4, 6]\n",
    "poly_funcs = (poly_naive, poly_iter, poly)\n",
    "eval_x = 3"
   ]
  },
  {
   "cell_type": "code",
   "execution_count": 26,
   "id": "b540e815-0c8a-427f-9fcd-84b87af0d28b",
   "metadata": {
    "tags": []
   },
   "outputs": [
    {
     "name": "stdout",
     "output_type": "stream",
     "text": [
      "128\n",
      "128\n",
      "128\n"
     ]
    }
   ],
   "source": [
    "for f in poly_funcs:\n",
    "    print(f(test_a, eval_x))"
   ]
  },
  {
   "cell_type": "code",
   "execution_count": 27,
   "id": "872f62d4-9437-4dc8-b5ad-9c8c850cc50a",
   "metadata": {
    "tags": []
   },
   "outputs": [
    {
     "data": {
      "text/plain": [
       "'poly_iter'"
      ]
     },
     "execution_count": 27,
     "metadata": {},
     "output_type": "execute_result"
    }
   ],
   "source": [
    "poly_iter.__name__"
   ]
  },
  {
   "cell_type": "code",
   "execution_count": 28,
   "id": "5d475cd2-df68-4899-b448-83d7a3367d68",
   "metadata": {
    "tags": []
   },
   "outputs": [],
   "source": [
    "import timeit\n",
    "\n",
    "time_report = {f.__name__: \n",
    "               timeit.timeit(f\"{f.__name__}(test_a, eval_x)\", \n",
    "                             number=100, \n",
    "                             globals=globals()) for f in poly_funcs\n",
    "              }"
   ]
  },
  {
   "cell_type": "code",
   "execution_count": 29,
   "id": "bb9fb7c5-d57d-4dfc-abb4-5047e004bcd5",
   "metadata": {
    "tags": []
   },
   "outputs": [
    {
     "data": {
      "text/plain": [
       "{'poly_naive': 0.0001371019998259726,\n",
       " 'poly_iter': 4.8101000174938235e-05,\n",
       " 'poly': 5.1701000302273314e-05}"
      ]
     },
     "execution_count": 29,
     "metadata": {},
     "output_type": "execute_result"
    }
   ],
   "source": [
    "time_report"
   ]
  }
 ],
 "metadata": {
  "kernelspec": {
   "display_name": "Python 3 (ipykernel)",
   "language": "python",
   "name": "python3"
  },
  "language_info": {
   "codemirror_mode": {
    "name": "ipython",
    "version": 3
   },
   "file_extension": ".py",
   "mimetype": "text/x-python",
   "name": "python",
   "nbconvert_exporter": "python",
   "pygments_lexer": "ipython3",
   "version": "3.8.16"
  }
 },
 "nbformat": 4,
 "nbformat_minor": 5
}
